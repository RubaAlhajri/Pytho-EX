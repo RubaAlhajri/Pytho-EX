{
  "nbformat": 4,
  "nbformat_minor": 0,
  "metadata": {
    "colab": {
      "provenance": [],
      "authorship_tag": "ABX9TyMC9DpOQh/9VDQVqyoUiR7O",
      "include_colab_link": true
    },
    "kernelspec": {
      "name": "python3",
      "display_name": "Python 3"
    },
    "language_info": {
      "name": "python"
    }
  },
  "cells": [
    {
      "cell_type": "markdown",
      "metadata": {
        "id": "view-in-github",
        "colab_type": "text"
      },
      "source": [
        "<a href=\"https://colab.research.google.com/github/RubaAlhajri/test/blob/main/Python_HW_1.ipynb\" target=\"_parent\"><img src=\"https://colab.research.google.com/assets/colab-badge.svg\" alt=\"Open In Colab\"/></a>"
      ]
    },
    {
      "cell_type": "code",
      "execution_count": 1,
      "metadata": {
        "id": "fmp8Rdep5e9J"
      },
      "outputs": [],
      "source": [
        "#تعريف لمتغير الاسم\n",
        "name = 'Ruba'\n",
        "\n"
      ]
    },
    {
      "cell_type": "code",
      "source": [
        "#تعريف لمتغير العمر\n",
        "age = '23'\n",
        "\n"
      ],
      "metadata": {
        "id": "r2HsjaQD5rje"
      },
      "execution_count": 2,
      "outputs": []
    },
    {
      "cell_type": "code",
      "source": [
        "#أمر الطباعة\n",
        "\n",
        "print(\"My Name is\",name,\"i sm\",age,\"years old\")"
      ],
      "metadata": {
        "colab": {
          "base_uri": "https://localhost:8080/"
        },
        "id": "NUlZfYNE5uxf",
        "outputId": "d6497a7f-8a5a-49c4-92e1-4a780e451123"
      },
      "execution_count": 7,
      "outputs": [
        {
          "output_type": "stream",
          "name": "stdout",
          "text": [
            "My Name is Ruba i sm 23 years old\n"
          ]
        }
      ]
    },
    {
      "cell_type": "code",
      "source": [],
      "metadata": {
        "id": "LTyilAJY59pl"
      },
      "execution_count": null,
      "outputs": []
    }
  ]
}