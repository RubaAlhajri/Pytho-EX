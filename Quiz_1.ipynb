{
  "nbformat": 4,
  "nbformat_minor": 0,
  "metadata": {
    "colab": {
      "provenance": [],
      "authorship_tag": "ABX9TyPPDKp0rtWXybHqg0oLnUmB",
      "include_colab_link": true
    },
    "kernelspec": {
      "name": "python3",
      "display_name": "Python 3"
    },
    "language_info": {
      "name": "python"
    }
  },
  "cells": [
    {
      "cell_type": "markdown",
      "metadata": {
        "id": "view-in-github",
        "colab_type": "text"
      },
      "source": [
        "<a href=\"https://colab.research.google.com/github/RubaAlhajri/test/blob/main/Quiz_1.ipynb\" target=\"_parent\"><img src=\"https://colab.research.google.com/assets/colab-badge.svg\" alt=\"Open In Colab\"/></a>"
      ]
    },
    {
      "cell_type": "code",
      "execution_count": 9,
      "metadata": {
        "id": "hquAAagIxULs"
      },
      "outputs": [],
      "source": [
        "#Initialize the list and the target number\n",
        "num_list=[2,5,10,8,3]\n",
        "\n",
        "target=13\n",
        "sum =0"
      ]
    },
    {
      "cell_type": "code",
      "source": [
        "#Using nested loop, so for every number will be sum with other number in the list  until find the target number\n",
        "for i in num_list :\n",
        "\n",
        "  for j in num_list :\n",
        "   sum=i+j\n",
        "   if sum== target :\n",
        "    break\n",
        "print(sum)"
      ],
      "metadata": {
        "colab": {
          "base_uri": "https://localhost:8080/"
        },
        "id": "lJMvV3Dixy3n",
        "outputId": "34244e34-ca6e-4fa3-b99f-be0d16bc3ea2"
      },
      "execution_count": 11,
      "outputs": [
        {
          "output_type": "stream",
          "name": "stdout",
          "text": [
            "13\n"
          ]
        }
      ]
    },
    {
      "cell_type": "code",
      "source": [],
      "metadata": {
        "id": "_mPS_C8bySOX"
      },
      "execution_count": null,
      "outputs": []
    }
  ]
}