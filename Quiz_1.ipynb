{
  "nbformat": 4,
  "nbformat_minor": 0,
  "metadata": {
    "colab": {
      "provenance": [],
      "include_colab_link": true
    },
    "kernelspec": {
      "name": "python3",
      "display_name": "Python 3"
    },
    "language_info": {
      "name": "python"
    }
  },
  "cells": [
    {
      "cell_type": "markdown",
      "metadata": {
        "id": "view-in-github",
        "colab_type": "text"
      },
      "source": [
        "<a href=\"https://colab.research.google.com/github/RubaAlhajri/test/blob/main/Quiz_1.ipynb\" target=\"_parent\"><img src=\"https://colab.research.google.com/assets/colab-badge.svg\" alt=\"Open In Colab\"/></a>"
      ]
    },
    {
      "cell_type": "code",
      "source": [
        "def two_sum(nums, target):\n",
        "    # قم بإنشاء dictionary لتخزين الفرق بين المجموع و target لكل رقم بالمصفوفه\n",
        "    num_dict = {}\n",
        "\n",
        "    # Iterate through the array\n",
        "    for i, num in enumerate(nums):\n",
        "\n",
        "        # ايجاد الفرق بين الرقم بالمصفوفه والرقم المستهدف\n",
        "        difference = target - num\n",
        "\n",
        "        # dictionary التحقق اذا كان الرقم المستخدمه في\n",
        "        if difference in num_dict:\n",
        "            # اذا كان صحيح يتم استرجاع القيمه القاموس من والتي هي رقم الاندكس المخزن و رقم الاندكس في المصفوفه الحاليه\n",
        "            return [num_dict[difference], i]\n",
        "\n",
        "        # Otherwise, add the current number and its index to the dictionary\n",
        "        num_dict[num] = i\n",
        "\n",
        "\n",
        "    # If no solution is found, return None or an empty list\n",
        "    return None\n",
        "\n",
        "\n",
        "nums = [7, 5, 11, 15,6,0,2,10]\n",
        "target = 7\n",
        "print(two_sum(nums, target))"
      ],
      "metadata": {
        "id": "_mPS_C8bySOX",
        "colab": {
          "base_uri": "https://localhost:8080/"
        },
        "outputId": "5c1dad33-203b-470e-f63a-84b8f7bb3f29"
      },
      "execution_count": 2,
      "outputs": [
        {
          "output_type": "stream",
          "name": "stdout",
          "text": [
            "[0, 5]\n"
          ]
        }
      ]
    },
    {
      "cell_type": "code",
      "source": [],
      "metadata": {
        "id": "-arBXjDSxsfp"
      },
      "execution_count": null,
      "outputs": []
    }
  ]
}