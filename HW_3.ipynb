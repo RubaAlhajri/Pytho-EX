{
  "nbformat": 4,
  "nbformat_minor": 0,
  "metadata": {
    "colab": {
      "provenance": [],
      "authorship_tag": "ABX9TyOJIBJhgqpVMte7EJJGTsCZ",
      "include_colab_link": true
    },
    "kernelspec": {
      "name": "python3",
      "display_name": "Python 3"
    },
    "language_info": {
      "name": "python"
    }
  },
  "cells": [
    {
      "cell_type": "markdown",
      "metadata": {
        "id": "view-in-github",
        "colab_type": "text"
      },
      "source": [
        "<a href=\"https://colab.research.google.com/github/RubaAlhajri/test/blob/main/HW_3.ipynb\" target=\"_parent\"><img src=\"https://colab.research.google.com/assets/colab-badge.svg\" alt=\"Open In Colab\"/></a>"
      ]
    },
    {
      "cell_type": "markdown",
      "source": [
        "# Q1:Write a Python program to construct the following pattern, using a nested for loop.*"
      ],
      "metadata": {
        "id": "DJixL16rUAi_"
      }
    },
    {
      "cell_type": "code",
      "source": [
        "# Set the value of 'n'\n",
        "n = 10\n",
        "\n",
        "# nested loop\n",
        "for i in range(n):\n",
        "\n",
        "    for j in range(i):\n",
        "\n",
        "        print('* ', end=\"\")\n",
        "    # Move to the next line\n",
        "    print('')\n",
        "\n",
        "# Iterate through the range of numbers from 'n' down to 1\n",
        "for i in range(n, 0, -1):\n",
        "\n",
        "    for j in range(i):\n",
        "        # end=\"\" ensures printing in the same line\n",
        "        print('* ', end=\"\")\n",
        "    # Move to the next line after printing '*'i'\n",
        "    print('')"
      ],
      "metadata": {
        "colab": {
          "base_uri": "https://localhost:8080/"
        },
        "id": "7MzlJsLFFeRy",
        "outputId": "9b6af693-f5e9-4b7d-e11a-6a517cccdbe8"
      },
      "execution_count": 33,
      "outputs": [
        {
          "output_type": "stream",
          "name": "stdout",
          "text": [
            "\n",
            "* \n",
            "* * \n",
            "* * * \n",
            "* * * * \n",
            "* * * * * \n",
            "* * * * * * \n",
            "* * * * * * * \n",
            "* * * * * * * * \n",
            "* * * * * * * * * \n",
            "* * * * * * * * * * \n",
            "* * * * * * * * * \n",
            "* * * * * * * * \n",
            "* * * * * * * \n",
            "* * * * * * \n",
            "* * * * * \n",
            "* * * * \n",
            "* * * \n",
            "* * \n",
            "* \n"
          ]
        }
      ]
    },
    {
      "cell_type": "markdown",
      "source": [
        "# Q2:Print the first 3 prime numbers that are greater than 10 but less than 99."
      ],
      "metadata": {
        "id": "G2axRLr5UVPY"
      }
    },
    {
      "cell_type": "code",
      "execution_count": 32,
      "metadata": {
        "colab": {
          "base_uri": "https://localhost:8080/"
        },
        "id": "WvO3_7t_FLXj",
        "outputId": "8c075fc1-8bb6-432d-cc5f-6c2f090abf74"
      },
      "outputs": [
        {
          "output_type": "stream",
          "name": "stdout",
          "text": [
            "29\n",
            "31\n",
            "37\n"
          ]
        }
      ],
      "source": [
        "def is_prime(number):\n",
        "    if number <= 1:\n",
        "        return False\n",
        "    for i in range(2, int(number**0.5) + 1):\n",
        "        if number % i == 0:\n",
        "            return False\n",
        "    return True\n",
        "\n",
        "\n",
        "count = 0\n",
        "number = 25\n",
        "while count < 3:\n",
        "    if is_prime(number):\n",
        "        print(number)\n",
        "        count += 1\n",
        "    number += 1"
      ]
    },
    {
      "cell_type": "markdown",
      "source": [],
      "metadata": {
        "id": "XkJMDeNVT65Q"
      }
    },
    {
      "cell_type": "code",
      "source": [],
      "metadata": {
        "id": "FMBKYWk3Rion"
      },
      "execution_count": null,
      "outputs": []
    }
  ]
}